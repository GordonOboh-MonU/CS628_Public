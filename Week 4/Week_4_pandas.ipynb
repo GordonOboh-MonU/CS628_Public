{
 "cells": [
  {
   "cell_type": "markdown",
   "metadata": {},
   "source": [
    "Import Necessary Libraries"
   ]
  },
  {
   "cell_type": "code",
   "execution_count": 7,
   "metadata": {},
   "outputs": [],
   "source": [
    "import pandas as pd"
   ]
  },
  {
   "cell_type": "markdown",
   "metadata": {},
   "source": [
    "Load the csv into a Pandas DataFrame"
   ]
  },
  {
   "cell_type": "code",
   "execution_count": 8,
   "metadata": {},
   "outputs": [],
   "source": [
    "df = pd.read_csv('employee_salaries.csv')\n"
   ]
  },
  {
   "cell_type": "markdown",
   "metadata": {},
   "source": [
    "Have a peep at the data"
   ]
  },
  {
   "cell_type": "code",
   "execution_count": 9,
   "metadata": {},
   "outputs": [
    {
     "name": "stdout",
     "output_type": "stream",
     "text": [
      "   Employee_ID        Name Department   Position  Salary   Hire_Date Gender\n",
      "0            1  Ryan Floyd      Sales  Executive   99254  2016-02-24      F\n",
      "1            2  John Price      Sales  Assistant  100985  2018-10-19      F\n",
      "Employee_ID     int64\n",
      "Name           object\n",
      "Department     object\n",
      "Position       object\n",
      "Salary          int64\n",
      "Hire_Date      object\n",
      "Gender         object\n",
      "dtype: object\n"
     ]
    }
   ],
   "source": [
    "print(df.head(2))\n",
    "#employee_salaries might be randomly generated \n",
    "print(df.dtypes)"
   ]
  },
  {
   "cell_type": "markdown",
   "metadata": {},
   "source": [
    "Check for Missing data"
   ]
  },
  {
   "cell_type": "code",
   "execution_count": 10,
   "metadata": {},
   "outputs": [
    {
     "name": "stdout",
     "output_type": "stream",
     "text": [
      "Number of Missing Data by columns\n",
      "Employee_ID    0\n",
      "Name           0\n",
      "Department     0\n",
      "Position       0\n",
      "Salary         0\n",
      "Hire_Date      0\n",
      "Gender         0\n",
      "dtype: int64\n"
     ]
    }
   ],
   "source": [
    "print(df.isnull().sum().rename_axis('Number of Missing Data by columns'))"
   ]
  },
  {
   "cell_type": "markdown",
   "metadata": {},
   "source": [
    "Summary statistics"
   ]
  },
  {
   "cell_type": "code",
   "execution_count": 11,
   "metadata": {},
   "outputs": [
    {
     "name": "stdout",
     "output_type": "stream",
     "text": [
      "Salary's mean is $86,147.00\n",
      "Salary's median is $87,836.00\n",
      "Salary's standard deviation is $22,086.74\n",
      "Salary's maximum is $119,751\n",
      "Salary's minimum is $40,659\n",
      "\n",
      "\n",
      "Mean Salary for each Department\n",
      "Finance      $84,255.53\n",
      "HR           $84,534.78\n",
      "IT           $86,795.26\n",
      "Marketing    $87,415.85\n",
      "Sales        $88,006.21\n",
      "Name: Salary, dtype: object\n"
     ]
    }
   ],
   "source": [
    "operations = {'mean' : lambda df : df.mean(),\n",
    "              'median' : lambda df : df.median(),\n",
    "              'standard deviation' : lambda df : df.std(),\n",
    "              'maximum' : lambda df : df.max(),\n",
    "              'minimum' : lambda df : df.min()}\n",
    "\n",
    "interested_columns = ['Salary']\n",
    "\n",
    "for op_name, op in operations.items():\n",
    "    for column in interested_columns:\n",
    "        try:\n",
    "            var = op(df[column])\n",
    "            if 'float' not in str(type(var)):\n",
    "                print(f\"{column}'s {op_name} is ${var:,}\")\n",
    "            else:\n",
    "                print(f\"{column}'s {op_name} is ${var:,.2f}\")\n",
    "        except TypeError:\n",
    "            pass\n",
    "print('\\n')\n",
    "title = 'Mean Salary for each Department'\n",
    "print(df['Salary'].groupby(df['Department']).mean().rename_axis(title).apply(lambda x: f'${x:,.2f}'))\n"
   ]
  },
  {
   "cell_type": "markdown",
   "metadata": {},
   "source": [
    "Getting the Highest paid employee"
   ]
  },
  {
   "cell_type": "code",
   "execution_count": 12,
   "metadata": {},
   "outputs": [
    {
     "name": "stdout",
     "output_type": "stream",
     "text": [
      "            Name Department    Salary\n",
      "75  Carlos Mejia         IT  $119,751\n"
     ]
    }
   ],
   "source": [
    "max_salary = operations['maximum'](df['Salary'])\n",
    "max_salary_row = df[df['Salary'] == max_salary]\n",
    "\n",
    "# Convert the Salary column to string before formatting\n",
    "max_salary_row = max_salary_row.astype({'Salary': 'object'})\n",
    "\n",
    "# Format the 'Salary' column with dollar sign and comma separators\n",
    "max_salary_row.loc[:,'Salary'] = max_salary_row['Salary'].apply(lambda x: f'${x:,}')\n",
    "\n",
    "print(max_salary_row[['Name', 'Department', 'Salary']])"
   ]
  },
  {
   "cell_type": "markdown",
   "metadata": {},
   "source": [
    "Gender pay gap analysis"
   ]
  },
  {
   "cell_type": "code",
   "execution_count": 13,
   "metadata": {},
   "outputs": [
    {
     "name": "stdout",
     "output_type": "stream",
     "text": [
      "Average Salary Grouped by Gender\n",
      "Female    $87,413.57\n",
      "Male      $84,718.74\n",
      "Name: Salary, dtype: object\n",
      "On average Female Employess make $2,694.83 more than Male Employees\n"
     ]
    }
   ],
   "source": [
    "var1= df['Salary'].groupby(df['Gender']).mean()\n",
    "# Title change and string formatting for numbers\n",
    "var1= var1.rename_axis(\"Average Salary Grouped by Gender\").apply(lambda x: f'${x:,.2f}')\n",
    "# Replace 'F' with 'Female' and 'M' with 'Male' in the index\n",
    "var1= var1.rename(index={'F': 'Female', 'M': 'Male'})\n",
    "print(var1)\n",
    "\n",
    "female_avg = var1.iloc[0]\n",
    "male_avg = var1.iloc[1]\n",
    "# Remove dollar sign and commas, convert to float\n",
    "female_avg = float(female_avg.replace('$', '').replace(',', ''))\n",
    "male_avg = float(male_avg.replace('$', '').replace(',', ''))\n",
    "diff_female_male = f\"${female_avg-male_avg:,.2f}\"\n",
    "print(f\"On average Female Employess make {diff_female_male} more than Male Employees\")"
   ]
  },
  {
   "cell_type": "markdown",
   "metadata": {},
   "source": [
    "Employees hired after 01/01/2020"
   ]
  },
  {
   "cell_type": "code",
   "execution_count": 14,
   "metadata": {},
   "outputs": [
    {
     "name": "stdout",
     "output_type": "stream",
     "text": [
      "   Name of Employees hired after January 1, 2020\n",
      "3                                    Andre Brock\n",
      "10                                  Kendra Hicks\n",
      "15                                 Vanessa Solis\n",
      "22                                 Vanessa Brown\n",
      "24                                    Judy Scott\n",
      "25                                   Bobby Watts\n",
      "34                                    Ashley Lee\n",
      "36                                 Jennifer King\n",
      "37                                   Jason Dixon\n",
      "41                               Nicholas Taylor\n",
      "42                                    John Kelly\n",
      "45                              Stephanie Carter\n",
      "50                                  Lori Simmons\n",
      "52                                  Jon Anderson\n",
      "55                             Jennifer Thompson\n",
      "56                                  Steven Stone\n",
      "58                                     Kevin Kim\n",
      "61                                   Jesse White\n",
      "65                                  Robert Scott\n",
      "69                                   Jessica Fry\n",
      "82                                  Tony Hoffman\n",
      "84                                      Amy Dean\n",
      "89                                 Kimberly Rios\n",
      "90                           Christopher Jackson\n",
      "91                                    Jose Moore\n",
      "93                                   Robert Cruz\n",
      "94                                  Tina Ballard\n",
      "97                                  Mathew Smith\n",
      "99                          Mr. Richard Copeland\n"
     ]
    }
   ],
   "source": [
    "hired_after_2020 = df[df['Hire_Date']>'2020-01-01']\n",
    "new_name = 'Name of Employees hired after January 1, 2020'\n",
    "hired_after_2020 = hired_after_2020.rename(columns = {'Name': new_name})\n",
    "print(hired_after_2020[[new_name]])\n"
   ]
  }
 ],
 "metadata": {
  "kernelspec": {
   "display_name": "628",
   "language": "python",
   "name": "python3"
  },
  "language_info": {
   "codemirror_mode": {
    "name": "ipython",
    "version": 3
   },
   "file_extension": ".py",
   "mimetype": "text/x-python",
   "name": "python",
   "nbconvert_exporter": "python",
   "pygments_lexer": "ipython3",
   "version": "3.12.3"
  }
 },
 "nbformat": 4,
 "nbformat_minor": 2
}
