{
 "cells": [
  {
   "cell_type": "markdown",
   "metadata": {},
   "source": [
    "Import Necessary Libraries"
   ]
  },
  {
   "cell_type": "code",
   "execution_count": 18,
   "metadata": {},
   "outputs": [],
   "source": [
    "import numpy as np\n",
    "import string as stg"
   ]
  },
  {
   "cell_type": "markdown",
   "metadata": {},
   "source": [
    "Setup Data from question and store them in accessible data structures"
   ]
  },
  {
   "cell_type": "code",
   "execution_count": 19,
   "metadata": {},
   "outputs": [],
   "source": [
    "sales_2023 = [120,135,150,180,160,190,170,200,210,220,250,300]\n",
    "sales_2022 = [100,120,130,140,150,160,180,190,200,210,230,260]\n",
    "months = [\"January\", \"February\", \"March\", \"April\", \"May\", \"June\",\n",
    "          \"July\", \"August\", \"September\",\"October\", \"November\", \"December\"]\n",
    "\n",
    "\n",
    "sales_2023 = np.array(sales_2023)\n",
    "sales_2022 = np.array(sales_2022)\n",
    "\n",
    "sales_data = {'2022' : sales_2022, '2023' : sales_2023}"
   ]
  },
  {
   "cell_type": "markdown",
   "metadata": {},
   "source": [
    "Calculate the percentage growth for each month from 2022 to 2023"
   ]
  },
  {
   "cell_type": "code",
   "execution_count": 20,
   "metadata": {},
   "outputs": [
    {
     "name": "stdout",
     "output_type": "stream",
     "text": [
      "In January the percentage growth was 16.67%\n",
      "In February the percentage growth was 11.11%\n",
      "In March the percentage growth was 13.33%\n",
      "In April the percentage growth was 22.22%\n",
      "In May the percentage growth was 6.25%\n",
      "In June the percentage growth was 15.79%\n",
      "In July the percentage growth was -5.88%\n",
      "In August the percentage growth was 5.00%\n",
      "In September the percentage growth was 4.76%\n",
      "In October the percentage growth was 4.55%\n",
      "In November the percentage growth was 8.00%\n",
      "In December the percentage growth was 13.33%\n"
     ]
    }
   ],
   "source": [
    "annual_growth = 100 * (sales_data['2023'] - sales_data['2022'] ) / sales_data['2023'] \n",
    "\n",
    "for i in range(len(months)):     \n",
    "    print(f\"In {months[i]} the percentage growth was {annual_growth[i]:.2f}%\")"
   ]
  },
  {
   "cell_type": "markdown",
   "metadata": {},
   "source": [
    "Computing summary statistics for 2022 and 2023 sales"
   ]
  },
  {
   "cell_type": "code",
   "execution_count": 21,
   "metadata": {},
   "outputs": [
    {
     "name": "stdout",
     "output_type": "stream",
     "text": [
      "in 2022 the Mean was 172.50 units\n",
      "in 2023 the Mean was 190.42 units\n",
      "in 2022 the Standard Deviation was 45.67 units\n",
      "in 2023 the Standard Deviation was 48.32 units\n",
      "in 2022 the Maximum was 260 units\n",
      "in 2023 the Maximum was 300 units\n",
      "in 2022 the Minimum was 100 units\n",
      "in 2023 the Minimum was 120 units\n"
     ]
    }
   ],
   "source": [
    "#Dictionary containing all required operations\n",
    "operations = {'mean' : lambda df: df.mean(), 'standard deviation' : lambda df: df.std(), \n",
    "              'maximum' : lambda df: df.max(), 'minimum' : lambda df: df.min()}\n",
    "\n",
    "\n",
    "for op_name, op in operations.items():\n",
    "    for title, data in sales_data.items():\n",
    "        var = op(data)\n",
    "        #Check for float\n",
    "        if 'float' not in str(type(var)): \n",
    "            print(f\"in {title} the {stg.capwords(op_name)} was {op(data)} units\")\n",
    "        else:\n",
    "            print(f\"in {title} the {stg.capwords(op_name)} was {op(data):.2f} units\")"
   ]
  },
  {
   "cell_type": "markdown",
   "metadata": {},
   "source": [
    "Identifing the month with the highest sales in 2023"
   ]
  },
  {
   "cell_type": "code",
   "execution_count": 22,
   "metadata": {},
   "outputs": [
    {
     "name": "stdout",
     "output_type": "stream",
     "text": [
      "December had the highest sales with 300 units\n"
     ]
    }
   ],
   "source": [
    "var = max(sales_data['2023'])\n",
    "index = list(sales_data['2023']).index(var)\n",
    "print(f\"{months[index]} had the highest sales with {var} units\")\n"
   ]
  },
  {
   "cell_type": "markdown",
   "metadata": {},
   "source": [
    "Calculate the month to month cumulative sales for 2023"
   ]
  },
  {
   "cell_type": "code",
   "execution_count": 23,
   "metadata": {},
   "outputs": [
    {
     "name": "stdout",
     "output_type": "stream",
     "text": [
      "The Cumulative Sales for January is 120 units\n",
      "The Cumulative Sales for February is 255 units\n",
      "The Cumulative Sales for March is 405 units\n",
      "The Cumulative Sales for April is 585 units\n",
      "The Cumulative Sales for May is 745 units\n",
      "The Cumulative Sales for June is 935 units\n",
      "The Cumulative Sales for July is 1105 units\n",
      "The Cumulative Sales for August is 1305 units\n",
      "The Cumulative Sales for September is 1515 units\n",
      "The Cumulative Sales for October is 1735 units\n",
      "The Cumulative Sales for November is 1985 units\n",
      "The Cumulative Sales for December is 2285 units\n"
     ]
    }
   ],
   "source": [
    "cumulative_sales = sales_data['2023'].cumsum()\n",
    "for i in range(len(sales_data['2023'])):\n",
    "    print(f\"The Cumulative Sales for {months[i]} is {cumulative_sales[i]} units\")"
   ]
  },
  {
   "cell_type": "markdown",
   "metadata": {},
   "source": [
    "Determine which months in 2023 had sales greater than 200 unit."
   ]
  },
  {
   "cell_type": "code",
   "execution_count": 24,
   "metadata": {},
   "outputs": [
    {
     "name": "stdout",
     "output_type": "stream",
     "text": [
      "September had more than 200 unit sales\n",
      "October had more than 200 unit sales\n",
      "November had more than 200 unit sales\n",
      "December had more than 200 unit sales\n"
     ]
    }
   ],
   "source": [
    "for i in range(len(sales_data['2023'])):\n",
    "    if sales_data['2023'][i] > 200:\n",
    "        print(f\"{months[i]} had more than 200 unit sales\")"
   ]
  }
 ],
 "metadata": {
  "kernelspec": {
   "display_name": "628",
   "language": "python",
   "name": "python3"
  },
  "language_info": {
   "codemirror_mode": {
    "name": "ipython",
    "version": 3
   },
   "file_extension": ".py",
   "mimetype": "text/x-python",
   "name": "python",
   "nbconvert_exporter": "python",
   "pygments_lexer": "ipython3",
   "version": "3.12.3"
  }
 },
 "nbformat": 4,
 "nbformat_minor": 2
}
